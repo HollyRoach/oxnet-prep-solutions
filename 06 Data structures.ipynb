{
 "cells": [
  {
   "cell_type": "markdown",
   "metadata": {},
   "source": [
    "# Introduction\n",
    "\n",
    "A data structure is an 'object' in a program that holds a collection of data. A simple\n",
    "data structure might be an 'array' that holds the components of a vector, or a list of\n",
    "names. A more complicated data structure might represent a telephone directory, \n",
    "holding [name, telephone number] pairs.\n",
    "\n",
    "Modern languages, like Python, provide a range of library (built-in) data structures.\n",
    "These are well-tested and optimised; it is good practice to use library data structures to make programs\n",
    "simpler, easier to read and more efficient. \n",
    "\n",
    "It is possible to develop your own data structures for special purposes. In this activity\n",
    "we focus on selecting and using built-in data structures. The creation\n",
    "of your own data structures is introduced in Activity 12.\n",
    "\n",
    "\n",
    "### Objectives\n",
    "\n",
    "- Use `list`, `tuple` and dictionary (`dict`) data structures\n",
    "- Use iteratation to visit entries in a data structure \n",
    "- Learn to select the right data structure for an application"
   ]
  },
  {
   "cell_type": "markdown",
   "metadata": {},
   "source": [
    "# Data structures\n",
    "\n",
    "So far we have restricted our examples to simple built-in data types, e.g. `string`, `int`, and `float`. In practice, programs will use *data structures* to collect data together into useful packages. For example, rather than representing a vector `r` of length 3 using three floats `u`, `v` and `w`, we could represent \n",
    "it as a list of floats, `r = [u, v, w]`. Similarly, if we want to store the names of students in a laboratory group, rather than a string variable for each student, we could work with a list of names, e.g.:"
   ]
  },
  {
   "cell_type": "code",
   "execution_count": 3,
   "metadata": {},
   "outputs": [],
   "source": [
    "lab_group0 = [\"Sarah\", \"John\", \"Joe\", \"Emily\"]\n",
    "lab_group1 = [\"Roger\", \"Rachel\", \"Amer\", \"Caroline\", \"Colin\"]"
   ]
  },
  {
   "cell_type": "markdown",
   "metadata": {},
   "source": [
    "This is a much more powerful construction because we can perform operations on a list, such as checking its length (number of students in a lab group), sort the names in the list into alphabetical order, and add or remove names. We could even make a list-of-lists, e.g."
   ]
  },
  {
   "cell_type": "code",
   "execution_count": 4,
   "metadata": {},
   "outputs": [],
   "source": [
    "lab_groups = [lab_group0, lab_group1]"
   ]
  },
  {
   "cell_type": "markdown",
   "metadata": {},
   "source": [
    "to collect all the lab groups together into a *nested* list.\n",
    "\n",
    "Data structures are particularly useful when passing data to functions. Say we want a function that prints the names of students in a given lab group. Rather than passing the name of each student (with different groups having differing numbers of members), we can pass just the list of lab group members to the function.\n",
    "Similarly, we could develop a function that computes the dot product between two vectors of arbitrary length, passing to the function just the two vectors rather than each component.\n",
    "\n",
    "We will look at three built-in Python data structures that are commonly used. They are:\n",
    "\n",
    "- `list` \n",
    "- `tuple`\n",
    "- `dict` (dictionary)"
   ]
  },
  {
   "cell_type": "markdown",
   "metadata": {},
   "source": [
    "# Lists\n",
    "\n",
    "A `list` is a sequence of data. An 'array' in most other languages is a similar concept, but Python lists are more general than most arrays as they can hold a mixture of types. A list is constructed using square brackets:"
   ]
  },
  {
   "cell_type": "code",
   "execution_count": 5,
   "metadata": {},
   "outputs": [
    {
     "name": "stdout",
     "output_type": "stream",
     "text": [
      "Lab group members: ['Sarah', 'John', 'Joe', 'Emily', 'Quang']\n",
      "Size of lab group: 5\n",
      "Check the Python object type: <class 'list'>\n"
     ]
    }
   ],
   "source": [
    "lab_group0 = [\"Sarah\", \"John\", \"Joe\", \"Emily\", \"Quang\"]\n",
    "print(\"Lab group members: {}\".format(lab_group0))\n",
    "print(\"Size of lab group: {}\".format(len(lab_group0)))\n",
    "\n",
    "print(\"Check the Python object type: {}\".format(type(lab_group0)))"
   ]
  },
  {
   "cell_type": "markdown",
   "metadata": {},
   "source": [
    "The function `len` returns the length (number of items) of the list.\n",
    "\n",
    "An empty list is created by"
   ]
  },
  {
   "cell_type": "code",
   "execution_count": 6,
   "metadata": {},
   "outputs": [],
   "source": [
    "my_list = []"
   ]
  },
  {
   "cell_type": "markdown",
   "metadata": {},
   "source": [
    "A list of length 5 with repeated values can be created by"
   ]
  },
  {
   "cell_type": "code",
   "execution_count": 7,
   "metadata": {},
   "outputs": [
    {
     "name": "stdout",
     "output_type": "stream",
     "text": [
      "['Oliver', 'Oliver', 'Oliver', 'Oliver', 'Oliver']\n"
     ]
    }
   ],
   "source": [
    "my_list = [\"Oliver\"]*5\n",
    "print(my_list)"
   ]
  },
  {
   "cell_type": "markdown",
   "metadata": {},
   "source": [
    "## Iterating over lists\n",
    "\n",
    "Looping over each item in a list (or more generally a sequence) is called *iterating*. We iterate over the members of the lab group using the syntax:"
   ]
  },
  {
   "cell_type": "code",
   "execution_count": 8,
   "metadata": {},
   "outputs": [
    {
     "name": "stdout",
     "output_type": "stream",
     "text": [
      "Sarah\n",
      "John\n",
      "Joe\n",
      "Emily\n",
      "Quang\n"
     ]
    }
   ],
   "source": [
    "for member in lab_group0:\n",
    "    print(member)"
   ]
  },
  {
   "cell_type": "markdown",
   "metadata": {},
   "source": [
    "Say we want to iterate over the names of the lab group members, and get the position\n",
    "of each member in the list. We use `enumerate` for this: "
   ]
  },
  {
   "cell_type": "code",
   "execution_count": 9,
   "metadata": {},
   "outputs": [
    {
     "name": "stdout",
     "output_type": "stream",
     "text": [
      "0 Sarah\n",
      "1 John\n",
      "2 Joe\n",
      "3 Emily\n",
      "4 Quang\n"
     ]
    }
   ],
   "source": [
    "for n, member in enumerate(lab_group0):\n",
    "    print(n, member)"
   ]
  },
  {
   "cell_type": "markdown",
   "metadata": {},
   "source": [
    "In the above, `n` is the position in the list and `member` is the $n$th entry in the list. Sometimes we need to know the position, in which case `enumerate` is helpful. However, when possible it is preferable to use 'plain' iteration. Note again that Python counts from zero - it uses zero-based indexing."
   ]
  },
  {
   "cell_type": "markdown",
   "metadata": {},
   "source": [
    "## Manipulating lists \n",
    "\n",
    "There are many functions for manipulating lists. It might be useful to sort the list:"
   ]
  },
  {
   "cell_type": "code",
   "execution_count": 10,
   "metadata": {},
   "outputs": [
    {
     "name": "stdout",
     "output_type": "stream",
     "text": [
      "Emily\n",
      "Joe\n",
      "John\n",
      "Quang\n",
      "Sarah\n"
     ]
    }
   ],
   "source": [
    "lab_group0.sort()\n",
    "for member in lab_group0:\n",
    "    print(member)"
   ]
  },
  {
   "cell_type": "markdown",
   "metadata": {},
   "source": [
    "In the above, `sort` is known as a 'method' of a `list`. It performs an *in-place* sort, i.e. `lab_group0` is sorted, rather than creating a new list with sorted entries (for the latter we would use `sorted(lab_group0)`, which returns a new list). More on methods later when we get to object-oriented design.\n",
    "\n",
    "With lists we can add and remove students:"
   ]
  },
  {
   "cell_type": "code",
   "execution_count": 11,
   "metadata": {},
   "outputs": [
    {
     "name": "stdout",
     "output_type": "stream",
     "text": [
      "['Emily', 'John', 'Quang', 'Sarah']\n",
      "['Emily', 'John', 'Quang', 'Sarah', 'Josephine']\n"
     ]
    }
   ],
   "source": [
    "# Remove the second student (indexing starts from 0, so 1 is the second element)\n",
    "lab_group0.pop(1)\n",
    "print(lab_group0)\n",
    "\n",
    "# Add new student \"Josephine\" at the end of the list\n",
    "lab_group0.append(\"Josephine\")\n",
    "print(lab_group0)"
   ]
  },
  {
   "cell_type": "markdown",
   "metadata": {},
   "source": [
    "or maybe join two groups to create one larger group: "
   ]
  },
  {
   "cell_type": "code",
   "execution_count": 12,
   "metadata": {},
   "outputs": [
    {
     "name": "stdout",
     "output_type": "stream",
     "text": [
      "['Emily', 'John', 'Quang', 'Sarah', 'Josephine', 'Roger', 'Rachel', 'Amer', 'Caroline', 'Colin']\n"
     ]
    }
   ],
   "source": [
    "lab_group1 = [\"Roger\", \"Rachel\", \"Amer\", \"Caroline\", \"Colin\"]\n",
    "\n",
    "lab_group = lab_group0 + lab_group1\n",
    "print(lab_group)"
   ]
  },
  {
   "cell_type": "markdown",
   "metadata": {},
   "source": [
    "or create a list of group lists:"
   ]
  },
  {
   "cell_type": "code",
   "execution_count": 13,
   "metadata": {},
   "outputs": [
    {
     "name": "stdout",
     "output_type": "stream",
     "text": [
      "[['Emily', 'John', 'Quang', 'Sarah', 'Josephine'], ['Roger', 'Rachel', 'Amer', 'Caroline', 'Colin']]\n",
      "---\n",
      "Print each lab group (name and members):\n",
      "0 ['Emily', 'John', 'Quang', 'Sarah', 'Josephine']\n",
      "1 ['Roger', 'Rachel', 'Amer', 'Caroline', 'Colin']\n"
     ]
    }
   ],
   "source": [
    "lab_groups = [lab_group0, lab_group1]\n",
    "print(lab_groups)\n",
    "\n",
    "print(\"---\")\n",
    "\n",
    "print(\"Print each lab group (name and members):\")\n",
    "for i, lab_group in enumerate(lab_groups):\n",
    "    print(i, lab_group)"
   ]
  },
  {
   "cell_type": "markdown",
   "metadata": {},
   "source": [
    "## Indexing\n",
    "\n",
    "Lists store data in order, so it is possible to 'index into' a list using an integer (this will be familiar to anyone who has used C), e.g.:"
   ]
  },
  {
   "cell_type": "code",
   "execution_count": 14,
   "metadata": {},
   "outputs": [
    {
     "name": "stdout",
     "output_type": "stream",
     "text": [
      "Emily Quang\n"
     ]
    }
   ],
   "source": [
    "first_member = lab_group0[0]\n",
    "third_member = lab_group0[2]\n",
    "print(first_member, third_member)"
   ]
  },
  {
   "cell_type": "markdown",
   "metadata": {},
   "source": [
    "or"
   ]
  },
  {
   "cell_type": "code",
   "execution_count": 15,
   "metadata": {},
   "outputs": [
    {
     "name": "stdout",
     "output_type": "stream",
     "text": [
      "Emily\n",
      "John\n",
      "Quang\n",
      "Sarah\n",
      "Josephine\n"
     ]
    }
   ],
   "source": [
    "for i in range(len(lab_group0)):\n",
    "    print(lab_group0[i])"
   ]
  },
  {
   "cell_type": "markdown",
   "metadata": {},
   "source": [
    "Indices start from zero, and run through to (length - 1).\n",
    "\n",
    "Indexing can be useful for numerical computations. We use it here to compute the dot product of two vectors. A vector can be considered as a list of numbers. The dot product is when you take two lists of the same length, multiple togeter the numbers in the same position in each list, then sum the results."
   ]
  },
  {
   "cell_type": "code",
   "execution_count": 16,
   "metadata": {},
   "outputs": [
    {
     "name": "stdout",
     "output_type": "stream",
     "text": [
      "154.45000000000002\n"
     ]
    }
   ],
   "source": [
    "# Two vectors of length 4\n",
    "x = [1.0, 3.5, 7.2, 8.9]\n",
    "y = [-1.0, 27.1, 1.0, 6]\n",
    "\n",
    "# Compute dot-product\n",
    "dot_product = 0.0\n",
    "for i in range(len(x)):\n",
    "    dot_product += x[i]*y[i]\n",
    "\n",
    "print(dot_product)"
   ]
  },
  {
   "cell_type": "markdown",
   "metadata": {},
   "source": [
    "When possible, it is better to iterate over a list rather than use indexing, since there are data structures that support iterating but do not support indexing.\n",
    "\n",
    "If we have a list-of-lists,"
   ]
  },
  {
   "cell_type": "code",
   "execution_count": 17,
   "metadata": {},
   "outputs": [],
   "source": [
    "lab_group0 = [\"Sarah\", \"John\", \"Joe\", \"Emily\"]\n",
    "lab_group1 = [\"Roger\", \"Rachel\", \"Amer\", \"Caroline\", \"Colin\"]\n",
    "lab_groups = [lab_group0, lab_group1]"
   ]
  },
  {
   "cell_type": "markdown",
   "metadata": {},
   "source": [
    "we can use the first index to access a list, and a second index to access the entry in that list:"
   ]
  },
  {
   "cell_type": "code",
   "execution_count": 18,
   "metadata": {},
   "outputs": [
    {
     "name": "stdout",
     "output_type": "stream",
     "text": [
      "['Sarah', 'John', 'Joe', 'Emily']\n",
      "Amer\n"
     ]
    }
   ],
   "source": [
    "group = lab_groups[0]\n",
    "print(group)\n",
    "\n",
    "name = lab_groups[1][2]\n",
    "print(name)"
   ]
  },
  {
   "cell_type": "markdown",
   "metadata": {},
   "source": [
    "## Heterogeneity (lists with mixed types)\n",
    "\n",
    "Python lists are heterogeneous data structures - this means they can store mixed types, e.g."
   ]
  },
  {
   "cell_type": "code",
   "execution_count": 19,
   "metadata": {},
   "outputs": [
    {
     "name": "stdout",
     "output_type": "stream",
     "text": [
      "Adam <class 'str'>\n",
      "(2+4j) <class 'complex'>\n",
      "1.0 <class 'float'>\n",
      "4 <class 'int'>\n"
     ]
    }
   ],
   "source": [
    "mixed_list = [\"Adam\", 2 + 4j, 1.0, 4]\n",
    "for entry in mixed_list:\n",
    "    print(entry, type(entry))"
   ]
  },
  {
   "cell_type": "markdown",
   "metadata": {},
   "source": [
    "Arrays in most languages are homogeneous - all types in the array must be the same.\n",
    "\n",
    "There are *many* ways in which lists can be manipulated. The best way to learn how to perform a specific operation is to use a search engine."
   ]
  },
  {
   "cell_type": "markdown",
   "metadata": {},
   "source": [
    "## List comprehension\n",
    "\n",
    "A powerful construct in modern languages, including Python, is *list comprehension*. It is a way to succinctly build lists from other lists. It can be very useful, but should be applied sensibly as it can sometimes be difficult to read. \n",
    "\n",
    "For more information on the format and approach to list comprehensions, you can see the following links:\n",
    "- https://www.w3schools.com/python/python_lists_comprehension.asp\n",
    "- https://realpython.com/list-comprehension-python/\n",
    "\n",
    "Say we have a list of numbers and we wish to create a new list that squares each number in the original list and adds 5. Using list comprehension:"
   ]
  },
  {
   "cell_type": "code",
   "execution_count": 23,
   "metadata": {},
   "outputs": [
    {
     "name": "stdout",
     "output_type": "stream",
     "text": [
      "Using list comprehension will return [4, 6, 10, 11] and [21, 41, 105, 126]\n",
      "Longer method will return [4, 6, 10, 11] and [21, 41, 105, 126]\n"
     ]
    }
   ],
   "source": [
    "x = [4, 6, 10, 11]\n",
    "y = [a*a + 5 for a in x] \n",
    "\n",
    "print(f\"Using list comprehension will return {x} and {y}\")\n",
    "\n",
    "#this is the same as\n",
    "y = []\n",
    "\n",
    "for a in x:\n",
    "    y.append(a*a + 5)\n",
    "    \n",
    "print(f\"Longer method will return {x} and {y}\")"
   ]
  },
  {
   "cell_type": "markdown",
   "metadata": {},
   "source": [
    "To understand the meaning, read the statement left-to-right.\n",
    "\n",
    "As another example, say we have a list of names and we want to \n",
    "\n",
    "- build a new list of names that contains only the names with more than 5 characters; and \n",
    "- for these names we want to add a full stop at the end.\n",
    "\n",
    "Using list comprehension:"
   ]
  },
  {
   "cell_type": "code",
   "execution_count": 24,
   "metadata": {},
   "outputs": [
    {
     "name": "stdout",
     "output_type": "stream",
     "text": [
      "['Roger', 'Rachel', 'Amer', 'Caroline', 'Colin']\n",
      "['Rachel.', 'Caroline.']\n"
     ]
    }
   ],
   "source": [
    "lab_group1 = [\"Roger\", \"Rachel\", \"Amer\", \"Caroline\", \"Colin\"]\n",
    "group = [name + \".\" for name in lab_group1 if len(name) > 5]\n",
    "\n",
    "print(lab_group1)\n",
    "print(group)"
   ]
  },
  {
   "cell_type": "markdown",
   "metadata": {},
   "source": [
    "Mastering list comprehension is not simple, but it is very powerful."
   ]
  },
  {
   "cell_type": "markdown",
   "metadata": {},
   "source": [
    "## Tuples\n",
    "\n",
    "Tuples are closely related to lists. The main difference is that a tuple cannot be changed after it has been created. \n",
    "In computing jargon, it is *immutable*.\n",
    "\n",
    "For something that should not change after it has been created, such as a vector of length three with fixed entries, a tuple is more appropriate than a list. It is 'safer' in this case since it cannot be modified accidentally in a program. Being immutable ('read-only') also permits implementations to possibly exploit this to optimise for speed.\n",
    "\n",
    "To create a tuple, use round brackets. Say at a college each student is assigned a room, and the rooms are numbered. A student 'Laura' is given room 32:"
   ]
  },
  {
   "cell_type": "code",
   "execution_count": 25,
   "metadata": {},
   "outputs": [
    {
     "name": "stdout",
     "output_type": "stream",
     "text": [
      "Room allocation: ('Laura', 32)\n",
      "Length of entry: 2\n",
      "<class 'tuple'>\n"
     ]
    }
   ],
   "source": [
    "room = (\"Laura\", 32)\n",
    "print(\"Room allocation: {}\".format(room))\n",
    "print(\"Length of entry: {}\".format(len(room)))\n",
    "print(type(room))"
   ]
  },
  {
   "cell_type": "markdown",
   "metadata": {},
   "source": [
    "We can iterate over tuples in the same way as with lists,"
   ]
  },
  {
   "cell_type": "code",
   "execution_count": 26,
   "metadata": {},
   "outputs": [
    {
     "name": "stdout",
     "output_type": "stream",
     "text": [
      "Laura\n",
      "32\n"
     ]
    }
   ],
   "source": [
    "# Iterate over tuple values\n",
    "for d in room:\n",
    "    print(d)"
   ]
  },
  {
   "cell_type": "markdown",
   "metadata": {},
   "source": [
    "and we can index into a tuple:"
   ]
  },
  {
   "cell_type": "code",
   "execution_count": 27,
   "metadata": {},
   "outputs": [
    {
     "name": "stdout",
     "output_type": "stream",
     "text": [
      "32\n",
      "Laura\n"
     ]
    }
   ],
   "source": [
    "print(room[1])\n",
    "print(room[0])"
   ]
  },
  {
   "cell_type": "markdown",
   "metadata": {},
   "source": [
    "We might have a student who is given permission to live outside of college. To keep track of them we still want an entry for the student, but there is no associated room number. We can create a tuple of length one using '`(\"a\",)`', e.g.:"
   ]
  },
  {
   "cell_type": "code",
   "execution_count": 28,
   "metadata": {},
   "outputs": [
    {
     "name": "stdout",
     "output_type": "stream",
     "text": [
      "Room allocation: ('Adrian',)\n",
      "Length of entry: 1\n",
      "<class 'tuple'>\n"
     ]
    }
   ],
   "source": [
    "room = (\"Adrian\",)\n",
    "print(\"Room allocation: {}\".format(room))\n",
    "print(\"Length of entry: {}\".format(len(room)))\n",
    "print(type(room))"
   ]
  },
  {
   "cell_type": "markdown",
   "metadata": {},
   "source": [
    "As part of a rooms database, we can create a list of tuples:"
   ]
  },
  {
   "cell_type": "code",
   "execution_count": 29,
   "metadata": {},
   "outputs": [
    {
     "name": "stdout",
     "output_type": "stream",
     "text": [
      "[('Adrian',), ('Laura', 32), ('John', 31), ('Penelope', 28), ('Fraser', 28), ('Gaurav', 19)]\n"
     ]
    }
   ],
   "source": [
    "room_allocation = [(\"Adrian\",), (\"Laura\", 32), (\"John\", 31), (\"Penelope\", 28), (\"Fraser\", 28), (\"Gaurav\", 19)]\n",
    "print(room_allocation)"
   ]
  },
  {
   "cell_type": "markdown",
   "metadata": {},
   "source": [
    "To make it easier for students to find their rooms on a printed room list, we can sort the list:"
   ]
  },
  {
   "cell_type": "code",
   "execution_count": 30,
   "metadata": {},
   "outputs": [
    {
     "name": "stdout",
     "output_type": "stream",
     "text": [
      "[('Adrian',), ('Fraser', 28), ('Gaurav', 19), ('John', 31), ('Laura', 32), ('Penelope', 28)]\n"
     ]
    }
   ],
   "source": [
    "room_allocation.sort()\n",
    "print(room_allocation)"
   ]
  },
  {
   "cell_type": "markdown",
   "metadata": {},
   "source": [
    "We could improve the printed list by not printing those living outside of the college:"
   ]
  },
  {
   "cell_type": "code",
   "execution_count": 33,
   "metadata": {},
   "outputs": [
    {
     "name": "stdout",
     "output_type": "stream",
     "text": [
      "Name: Fraser \n",
      "  Room: 28\n",
      "Name: Gaurav \n",
      "  Room: 19\n",
      "Name: John \n",
      "  Room: 31\n",
      "Name: Laura \n",
      "  Room: 32\n",
      "Name: Penelope \n",
      "  Room: 28\n"
     ]
    }
   ],
   "source": [
    "for entry in room_allocation:\n",
    "    if len(entry) > 1:\n",
    "        print(\"Name: {} \\n  Room: {}\".format(entry[0], entry[1])) #\\n creates new indented line"
   ]
  },
  {
   "cell_type": "markdown",
   "metadata": {},
   "source": [
    "In summary, prefer tuples over lists when the length will not change."
   ]
  },
  {
   "cell_type": "markdown",
   "metadata": {},
   "source": [
    "# Dictionaries (maps)\n",
    "\n",
    "We used a list of tuples in the previous section to store room allocations. If we wanted to find which room a particular student has been allocated we would need to iterate through the list and check each name. For a very large list, this might not be very efficient.\n",
    "\n",
    "There is a better way to do this, using a 'dictionary' (or sometimes called a 'map'). We have used indexing (with integers) into lists and tuples for direct access to a specific entry. This works if we know the index to the entry of interest. But, for a room list we identify individuals by name rather than a contiguous set of integers. Using a dictionary, we can build a 'map' from names (the *keys*) to room numbers (the *values*). \n",
    "\n",
    "A Python dictionary (`dict`) is declared using curly braces:"
   ]
  },
  {
   "cell_type": "code",
   "execution_count": 34,
   "metadata": {},
   "outputs": [
    {
     "name": "stdout",
     "output_type": "stream",
     "text": [
      "{'Adrian': None, 'Laura': 32, 'John': 31, 'Penelope': 28, 'Fraser': 28, 'Gaurav': 19}\n",
      "<class 'dict'>\n"
     ]
    }
   ],
   "source": [
    "room_allocation = {\"Adrian\": None, \"Laura\": 32, \"John\": 31, \"Penelope\": 28, \"Fraser\": 28, \"Gaurav\": 19}\n",
    "print(room_allocation)\n",
    "print(type(room_allocation))"
   ]
  },
  {
   "cell_type": "markdown",
   "metadata": {},
   "source": [
    "Each entry is separated by a comma. For each entry we have a 'key', which is followed by a colon, and then the 'value'. Note that for Adrian we have used '`None`' for the value, which is a Python keyword for 'nothing' or 'empty'.\n",
    "\n",
    "Now if we want to know which room Fraser has been allocated, we can query the dictionary by key:"
   ]
  },
  {
   "cell_type": "code",
   "execution_count": 35,
   "metadata": {},
   "outputs": [
    {
     "name": "stdout",
     "output_type": "stream",
     "text": [
      "28\n"
     ]
    }
   ],
   "source": [
    "frasers_room = room_allocation[\"Fraser\"]\n",
    "print(frasers_room)"
   ]
  },
  {
   "cell_type": "markdown",
   "metadata": {},
   "source": [
    "If we try to use a key that does not exist in the dictionary, e.g.\n",
    "\n",
    "    frasers_room = room_allocation[\"Frasers\"]\n",
    "\n",
    "Python will give an error (raise an exception). If we're not sure that a key is present, we can check:"
   ]
  },
  {
   "cell_type": "code",
   "execution_count": 36,
   "metadata": {},
   "outputs": [
    {
     "name": "stdout",
     "output_type": "stream",
     "text": [
      "True\n",
      "False\n"
     ]
    }
   ],
   "source": [
    "print(\"Fraser\" in room_allocation)\n",
    "print(\"Frasers\" in room_allocation)"
   ]
  },
  {
   "cell_type": "markdown",
   "metadata": {},
   "source": [
    "(We can also use '`in`' to check if an entry exists in a list or tuple).\n",
    "We can iterate over the keys in a dictionary:"
   ]
  },
  {
   "cell_type": "code",
   "execution_count": 37,
   "metadata": {},
   "outputs": [
    {
     "name": "stdout",
     "output_type": "stream",
     "text": [
      "Adrian\n",
      "Laura\n",
      "John\n",
      "Penelope\n",
      "Fraser\n",
      "Gaurav\n"
     ]
    }
   ],
   "source": [
    "for d in room_allocation:\n",
    "    print(d)"
   ]
  },
  {
   "cell_type": "markdown",
   "metadata": {},
   "source": [
    "or iterate over both the keys and the values:"
   ]
  },
  {
   "cell_type": "code",
   "execution_count": 38,
   "metadata": {},
   "outputs": [
    {
     "name": "stdout",
     "output_type": "stream",
     "text": [
      "Adrian None\n",
      "Laura 32\n",
      "John 31\n",
      "Penelope 28\n",
      "Fraser 28\n",
      "Gaurav 19\n"
     ]
    }
   ],
   "source": [
    "for name, room_number in room_allocation.items():\n",
    "    print(name, room_number)"
   ]
  },
  {
   "cell_type": "markdown",
   "metadata": {},
   "source": [
    "Note that the order of the printed entries in the dictionary is different from the input order. This is because a dictionary stores data differently from a list or tuple. Lists and tuples store entries 'linearly' in memory\n",
    "(contiguous pieces of memory), which is why we can access entries by index. Dictionaries use a different type of storage which allows us to perform look-ups using a 'key'.\n",
    "\n",
    "We have used a string as the key so far, which is common. However, we can use almost any type as a key, and we can mix types. For example, we might want to 'invert' the room allocation dictionary to create a room-to-name map: "
   ]
  },
  {
   "cell_type": "code",
   "execution_count": 39,
   "metadata": {},
   "outputs": [
    {
     "name": "stdout",
     "output_type": "stream",
     "text": [
      "{None: 'Adrian', 32: 'Laura', 31: 'John', 28: 'Fraser', 19: 'Gaurav'}\n"
     ]
    }
   ],
   "source": [
    "# Create empty dictionary\n",
    "room_allocation_inverse = {}\n",
    "\n",
    "# Build inverse dictionary to map 'room number' -> name \n",
    "for name, room_number in room_allocation.items():\n",
    "    # Insert entry into dictionary\n",
    "    room_allocation_inverse[room_number] = name\n",
    "\n",
    "print(room_allocation_inverse)"
   ]
  },
  {
   "cell_type": "markdown",
   "metadata": {},
   "source": [
    "We can now ask who is in room 28 and who is in room 29. Not all rooms are occupied, so we should include a check that the room number is a key in our dictionary:"
   ]
  },
  {
   "cell_type": "code",
   "execution_count": 40,
   "metadata": {},
   "outputs": [
    {
     "name": "stdout",
     "output_type": "stream",
     "text": [
      "Room 28 is occupied by Fraser.\n",
      "Room 29 is unoccupied.\n"
     ]
    }
   ],
   "source": [
    "rooms_to_check = [28, 29]\n",
    "\n",
    "for room in rooms_to_check:\n",
    "    if room in room_allocation_inverse:\n",
    "        print(\"Room {} is occupied by {}.\".format(room, room_allocation_inverse[room]))\n",
    "    else:\n",
    "        print(\"Room {} is unoccupied.\".format(room))"
   ]
  },
  {
   "cell_type": "markdown",
   "metadata": {},
   "source": [
    "# Choosing a data structure\n",
    "\n",
    "An important task when developing a computer program is selecting the *appropriate* data structure for a task.\n",
    "The more flexible the data structure, generally the less efficient it will be and it may use more memory compared to simpler data structures.\n",
    "\n",
    "- If efficiency is not critical, pick a data structure that provides the functionality you need, and offers \n",
    "  flexibility and ease of use. Safety should also be considered (this can be a good reason for choosing a \n",
    "  tuple over a list).\n",
    "- Use iterators rather than indexing when possible. This will allow switching from data structures that support \n",
    "  indexing to data structures that do not support indexing (such as a '`set`' data structure).\n",
    "\n",
    "For numerical computations, efficiency is often essential and picking the right data structure is critical\n",
    "for this. We will look at data structures that are specialied for numerical computations in the next notebook, and we'll see the huge difference in speed there can be between different data structures."
   ]
  },
  {
   "cell_type": "markdown",
   "metadata": {
    "deletable": false,
    "editable": false,
    "nbgrader": {
     "cell_type": "markdown",
     "checksum": "8969a6543eebd1c7db89a71bb75e61ee",
     "grade": false,
     "grade_id": "cell-7b3313f25bceb7a2",
     "locked": true,
     "schema_version": 3,
     "solution": false
    }
   },
   "source": [
    "## Exercise 06.1 (selecting and passing data structures)\n",
    "\n",
    "The task in Exercise 04 for computing the area of a triangle involved a function with six arguments ($x$ and $y$ components of each vertex). With six arguments, the likelihood of a user passing arguments in the wrong order is high. \n",
    "\n",
    "Use an appropriate data structure, e.g. a `list`, `tuple`, `dict`, etc,  to develop a new version of the function with a simpler interface (the interface is the arguments that are passed to the function). Add appropriate checks inside your function to validate the input data."
   ]
  },
  {
   "cell_type": "code",
   "execution_count": 56,
   "metadata": {
    "deletable": false,
    "nbgrader": {
     "cell_type": "code",
     "checksum": "93c53f411edb621595bc865f6c79cbaf",
     "grade": false,
     "grade_id": "cell-50c4566d7bcbffaf",
     "locked": false,
     "schema_version": 3,
     "solution": true
    }
   },
   "outputs": [],
   "source": [
    "#ORGINAL FUNCTION FROM EXERSICE 4\n",
    "def area(x0, y0, x1, y1, x2, y2):\n",
    "    \"\"\"calculate area of a triangle based on its vertices cooridnates\"\"\"\n",
    "    \n",
    "    a = (x0*(y1 - y2) + x1*(y2 - y0) + x2*(y0 - y1))/2\n",
    "    \n",
    "    return abs(a)\n",
    "\n",
    "#NEW FUNCTION - METHOD 1 have two lists containing x or y co-ordinates\n",
    "# x = [x0, x1, x2]\n",
    "# y = [y0, y1, y2]\n",
    "\n",
    "def area_1(x, y):\n",
    "    \"\"\"calculate area of a triangle based on its vertices cooridnates\"\"\"\n",
    "\n",
    "    #forms check\n",
    "    assert len(x) == 3 and len(y) == 3\n",
    "    \n",
    "    #caclaute area \n",
    "    a = (x[0]*(y[1]-y[2]) + x[1]*(y[2]-y[0]) + x[2]*(y[0]-y[1]))/2\n",
    "    \n",
    "    return abs(a)\n",
    "\n",
    "#NEW FUNCTION - METHOD 2 have 1 list containing turples of the verticies\n",
    "# t = [(x0, y0), (x1, y1), (x2, y2)]\n",
    "\n",
    "def area_2(t):\n",
    "    \"\"\"calculate area of a triangle based on its vertices cooridnates\"\"\"\n",
    "    \n",
    "    #check 3 vertices are inputted\n",
    "    assert len(t) == 3   \n",
    "\n",
    "    #check each vertices has 2 co-ordinates\n",
    "    for vertex in t:\n",
    "        assert len(vertex) == 2\n",
    "    \n",
    "    #define each set of verticies co-ordinates\n",
    "    co_ord0 = t[0]\n",
    "    co_ord1 = t[1]\n",
    "    co_ord2 = t[2]\n",
    "      \n",
    "    #caclaute area    \n",
    "    a = (co_ord0[0]*(co_ord1[1] - co_ord2[1]) +    #(x0*(y1 - y2) +\n",
    "         co_ord1[0]*(co_ord2[1] - co_ord0[1]) +    #x1*(y2 - y0) +\n",
    "         co_ord2[0]*(co_ord0[1] - co_ord1[1]) )/2  #x2*(y0 - y1))/2 \n",
    "    \n",
    "    return abs(a)"
   ]
  },
  {
   "cell_type": "code",
   "execution_count": 57,
   "metadata": {},
   "outputs": [
    {
     "name": "stdout",
     "output_type": "stream",
     "text": [
      "3.0 3.0 3.0\n"
     ]
    }
   ],
   "source": [
    "#TEST THAT ALL 3 METHODS RETURN THE SAME AREA VALYE FOR THE TRIANGLE\n",
    "\n",
    "#triangle verticies\n",
    "x0, y0 = 0.0, 0.0\n",
    "x1, y1 = 0.0, 2.0\n",
    "x2, y2 = 3.0, 0.0\n",
    "\n",
    "#orginal method\n",
    "A = area(x0, y0, x1, y1, x2, y2)\n",
    "\n",
    "#method 1\n",
    "x = [x0, x1, x2]\n",
    "y = [y0, y1, y2]\n",
    "\n",
    "B = area_1(x, y)\n",
    "\n",
    "#method 2\n",
    "triangle_verticies = [(x0, y0), (x1, y1), (x2, y2)]\n",
    "\n",
    "C = area_2(triangle_verticies)\n",
    "\n",
    "print(A, B, C)"
   ]
  },
  {
   "cell_type": "markdown",
   "metadata": {
    "deletable": false,
    "editable": false,
    "nbgrader": {
     "cell_type": "markdown",
     "checksum": "538793e1776653182d193a7700588461",
     "grade": false,
     "grade_id": "cell-5065052af9989fdf",
     "locked": true,
     "schema_version": 3,
     "solution": false
    }
   },
   "source": [
    "## Exercise 06.2 (selecting data structures)\n",
    "\n",
    "For a simple (non-intersecting) polygon with $n$ vertices, $(x_0, y_0)$, $(x_1, y_1)$, . . , $(x_{n-1}, y_{n-1})$, the area $A$ is given by\n",
    "$$\n",
    "A = \\left| \\frac{1}{2} \\sum_{i=0}^{n-1} \\left(x_{i} y _{i+1} - x_{i+1} y_{i} \\right) \\right|\n",
    "$$\n",
    "and where $(x_n, y_n) = (x_0, y_0)$. The vertices should be ordered as you move around the polygon. Note that the sigma sign (big S-like symbol) indicates loop which sums over its contents, and the vertical bars around the formula tell you to take the absolute value of the thing inside it.\n",
    "\n",
    "Write a function that computes the area of a simple polygon with an arbitrary number of vertices. Test your function for some simple shapes. Pay careful attention to the range of any loops."
   ]
  },
  {
   "cell_type": "code",
   "execution_count": 80,
   "metadata": {},
   "outputs": [],
   "source": [
    "#example shape of a triangle which has 2 verticies\n",
    "# shape = [(0,0), (0, 2), (3, 0)] \n",
    "\n",
    "def shape_area(shape):\n",
    "    \"\"\"Calculates area of a given polygon\"\"\"\n",
    "    \n",
    "    #define number of vertices present in the shape\n",
    "    num_verticies = len(shape)\n",
    "    \n",
    "    #assign variable to where recorded area value will be stored\n",
    "    area = 0\n",
    "    \n",
    "    #for each set of verticies we need to calculate the value of (Xi * Yi+1) - (Xi+1 * Yi)   \n",
    "    for i in range(num_verticies-1):\n",
    "        \n",
    "        #create list of Xi, Yi and Xi+1, Yi+1 verticies\n",
    "        vertex_i = shape[i]\n",
    "        vertex_i_1 = shape[i+1]\n",
    "\n",
    "        #evaluate the expression (Xi * Yi+1) - (Xi+1 * Yi)\n",
    "        area += vertex_i[0]*vertex_i_1[1] - vertex_i_1[0]*vertex_i[1]  #incrementaly adds to find the sum of all the verticies \n",
    "    \n",
    "    #find the absolute value of the sum of formula and multiply by 1/2\n",
    "    area = abs(area*0.5) \n",
    "    \n",
    "    return area\n"
   ]
  },
  {
   "cell_type": "code",
   "execution_count": 82,
   "metadata": {
    "deletable": false,
    "nbgrader": {
     "cell_type": "code",
     "checksum": "3c6fe94718310475d875ec60534199eb",
     "grade": false,
     "grade_id": "cell-4b5a619405787746",
     "locked": false,
     "schema_version": 3,
     "solution": true
    }
   },
   "outputs": [
    {
     "name": "stdout",
     "output_type": "stream",
     "text": [
      "3.0\n",
      "4.0\n"
     ]
    }
   ],
   "source": [
    "# YOUR CODE HERE\n",
    "triangle = [(0,0), (0, 2), (3, 0)] \n",
    "\n",
    "triangle_area = shape_area(triangle)\n",
    "print(triangle_area)\n",
    "\n",
    "square = [(0,0), (0, 2), (2, 2), (2, 0)]\n",
    "\n",
    "square_area = shape_area(square)\n",
    "print(square_area)"
   ]
  },
  {
   "cell_type": "markdown",
   "metadata": {
    "deletable": false,
    "editable": false,
    "nbgrader": {
     "cell_type": "markdown",
     "checksum": "31a71dcd54f996f2f798df30114b9faf",
     "grade": false,
     "grade_id": "cell-ced99a38c7bbe7a0",
     "locked": true,
     "schema_version": 3,
     "solution": false
    }
   },
   "source": [
    "## Exercise 06.3 (indexing)\n",
    "\n",
    "Write a function that uses list indexing to add two vectors of arbitrary length, and returns the new vector. Include a check that the vector sizes match, and print a warning message if there is a size mismatch. The more error information you provide, the easier it would be for someone using your function to debug their code.\n",
    "\n",
    "Add some tests of your code.\n",
    "\n",
    "#### Hint: You can create a list of zeros of length `n` by\n",
    "\n",
    "    z = [0]*n\n",
    "    \n",
    "#### Optional (advanced) \n",
    "\n",
    "Try writing a one-line version of this operation using list comprehension and the built-in function [`zip`](https://docs.python.org/3/library/functions.html#zip)."
   ]
  },
  {
   "cell_type": "code",
   "execution_count": 93,
   "metadata": {
    "deletable": false,
    "nbgrader": {
     "cell_type": "code",
     "checksum": "66ea7d534bb1cbabf82dbcbb69e4dd02",
     "grade": false,
     "grade_id": "cell-47daca03f7a96b62",
     "locked": false,
     "schema_version": 3,
     "solution": true
    }
   },
   "outputs": [],
   "source": [
    "def sum_vector(x, y):\n",
    "    \"Return sum of two vectors\"\n",
    "    \n",
    "    #check vectors are the same size \n",
    "    if len(x) != len(y):\n",
    "        print(\"Error - vectors x and y are not the same\")\n",
    "        \n",
    "    #create new vector - where the sum of two other vectors will be stored\n",
    "    z = []\n",
    "    \n",
    "    #using list indexing to add two vectors of arbitrary length\n",
    "    for i in range(len(x)):\n",
    "        \n",
    "        new_element = x[i] + y[i]\n",
    "        \n",
    "        z.append(new_element)\n",
    "        \n",
    "    return z   \n",
    "\n",
    "#method 2 - more memory effiecent to create list with zeros than appending \n",
    "def sum_vector_1(x, y):\n",
    "    \"Return sum of two vectors\"\n",
    "    if len(x) != len(y):\n",
    "        print(\"Warning! vector sizes do not match\")\n",
    "    z = [0]*len(x)\n",
    "    for i in range(len(x)):\n",
    "        z[i] = x[i] + y[i]\n",
    "    \n",
    "    return z\n"
   ]
  },
  {
   "cell_type": "code",
   "execution_count": 92,
   "metadata": {
    "deletable": false,
    "editable": false,
    "nbgrader": {
     "cell_type": "code",
     "checksum": "9b3d802cdb7440be47952667335f5cc7",
     "grade": true,
     "grade_id": "cell-95f5819810d2b2c7",
     "locked": true,
     "points": 0,
     "schema_version": 3,
     "solution": false
    }
   },
   "outputs": [],
   "source": [
    "a = [0, 4.3, -5, 7]\n",
    "b = [-2, 7, -15, 1]\n",
    "c = sum_vector(a, b)\n",
    "assert c == [-2, 11.3, -20, 8]"
   ]
  },
  {
   "cell_type": "markdown",
   "metadata": {},
   "source": [
    "### Extension: list comprehension"
   ]
  },
  {
   "cell_type": "code",
   "execution_count": 94,
   "metadata": {
    "deletable": false,
    "nbgrader": {
     "cell_type": "code",
     "checksum": "3ace0d343b7871c30f7776e20669bf3e",
     "grade": true,
     "grade_id": "cell-c182b3f0d8952692",
     "locked": false,
     "points": 0,
     "schema_version": 3,
     "solution": true
    }
   },
   "outputs": [
    {
     "name": "stdout",
     "output_type": "stream",
     "text": [
      "Help on class zip in module builtins:\n",
      "\n",
      "class zip(object)\n",
      " |  zip(*iterables) --> A zip object yielding tuples until an input is exhausted.\n",
      " |  \n",
      " |     >>> list(zip('abcdefg', range(3), range(4)))\n",
      " |     [('a', 0, 0), ('b', 1, 1), ('c', 2, 2)]\n",
      " |  \n",
      " |  The zip object yields n-length tuples, where n is the number of iterables\n",
      " |  passed as positional arguments to zip().  The i-th element in every tuple\n",
      " |  comes from the i-th iterable argument to zip().  This continues until the\n",
      " |  shortest argument is exhausted.\n",
      " |  \n",
      " |  Methods defined here:\n",
      " |  \n",
      " |  __getattribute__(self, name, /)\n",
      " |      Return getattr(self, name).\n",
      " |  \n",
      " |  __iter__(self, /)\n",
      " |      Implement iter(self).\n",
      " |  \n",
      " |  __next__(self, /)\n",
      " |      Implement next(self).\n",
      " |  \n",
      " |  __reduce__(...)\n",
      " |      Return state information for pickling.\n",
      " |  \n",
      " |  ----------------------------------------------------------------------\n",
      " |  Static methods defined here:\n",
      " |  \n",
      " |  __new__(*args, **kwargs) from builtins.type\n",
      " |      Create and return a new object.  See help(type) for accurate signature.\n",
      "\n"
     ]
    }
   ],
   "source": [
    "# YOUR CODE HERE\n",
    "help(zip)"
   ]
  },
  {
   "cell_type": "code",
   "execution_count": 97,
   "metadata": {},
   "outputs": [
    {
     "name": "stdout",
     "output_type": "stream",
     "text": [
      "[-2, 11.3, -20, 8] [-2, 11.3, -20, 8]\n"
     ]
    }
   ],
   "source": [
    "x = [0, 4.3, -5, 7]\n",
    "y = [-2, 7, -15, 1]\n",
    "\n",
    "#using function\n",
    "z_1 = sum_vector(x, y)\n",
    "\n",
    "#using list comprehension - zip iterates through multiple lists simultaneously\n",
    "z_2 = [xi + yi for xi, yi in zip(x, y)]\n",
    "\n",
    "print(z_1, z_2)"
   ]
  },
  {
   "cell_type": "markdown",
   "metadata": {},
   "source": [
    "## Exercise 06.4 (dictionaries)\n",
    "\n",
    "Create a dictionary that maps college names (the key) to college abbreviations for at least 5 colleges\n",
    "(you can find abbreviations at https://en.wikipedia.org/wiki/Colleges_of_the_University_of_Cambridge#Colleges).\n",
    "From the dictionary, produce and print\n",
    "\n",
    "1. A dictionary from college abbreviation to name; and\n",
    "1. A list of college abbreviations sorted into alphabetical order.\n",
    "\n",
    "*Optional extension:* Create a dictionary that maps college names (the key) to dictionaries of:\n",
    "\n",
    "- College abbreviation\n",
    "- Year of foundation \n",
    "- Total number students\n",
    " \n",
    "for at least 5 colleges. Take the data from https://en.wikipedia.org/wiki/Colleges_of_the_University_of_Cambridge#Colleges. Using this dictionary, \n",
    "\n",
    "1. Find the college with the greatest number of students and print the abbreviation; and \n",
    "2. Find the oldest college, and print the number of students and the abbreviation for this college."
   ]
  },
  {
   "cell_type": "code",
   "execution_count": 109,
   "metadata": {
    "deletable": false,
    "nbgrader": {
     "cell_type": "code",
     "checksum": "892cc4fd98d0f8cc393eff925b5d6b13",
     "grade": false,
     "grade_id": "cell-bc271dc3885e19c5",
     "locked": false,
     "schema_version": 3,
     "solution": true
    }
   },
   "outputs": [
    {
     "name": "stdout",
     "output_type": "stream",
     "text": [
      "{'Emmanuel': 'EM', 'Churchill': 'CHU', 'Darwin': 'DAR', 'Homerton': 'HO', 'Girton': 'G'}\n",
      "-----\n",
      "{'EM': 'Emmanuel', 'CHU': 'Churchill', 'DAR': 'Darwin', 'HO': 'Homerton', 'G': 'Girton'}\n",
      "['CHU', 'DAR', 'EM', 'G', 'HO']\n"
     ]
    }
   ],
   "source": [
    "# YOUR CODE HERE\n",
    "colleges = {\"Emmanuel\": \"EM\",\n",
    "            \"Churchill\": \"CHU\",\n",
    "            \"Darwin\": \"DAR\",\n",
    "            \"Homerton\": \"HO\",\n",
    "            \"Girton\": \"G\"}\n",
    "\n",
    "#create dictionary going from abbreviation to name\n",
    "colleges_inverse = {}\n",
    "\n",
    "for name, abbreviation in colleges.items():\n",
    "    colleges_inverse[abbreviation] = name\n",
    "\n",
    "print(colleges)\n",
    "print(\"-----\")\n",
    "print(colleges_inverse)\n",
    "\n",
    "#create list of college abbreviations sorted into alphabetical order\n",
    "ordered_college_abbr = sorted(list(colleges.values()))\n",
    "\n",
    "print(ordered_college_abbr)\n",
    "\n"
   ]
  },
  {
   "cell_type": "markdown",
   "metadata": {
    "deletable": false,
    "editable": false,
    "nbgrader": {
     "cell_type": "markdown",
     "checksum": "ee373920fe2377cf230967db220ba75a",
     "grade": false,
     "grade_id": "cell-45d2551a524193b0",
     "locked": true,
     "schema_version": 3,
     "solution": false
    }
   },
   "source": [
    "#### Optional extension"
   ]
  },
  {
   "cell_type": "code",
   "execution_count": null,
   "metadata": {
    "deletable": false,
    "nbgrader": {
     "cell_type": "code",
     "checksum": "683b2dc107d00c494b6c163c5ab6cfa8",
     "grade": false,
     "grade_id": "cell-7040c4053c72ce09",
     "locked": false,
     "schema_version": 3,
     "solution": true
    }
   },
   "outputs": [],
   "source": [
    "# YOUR CODE HERE\n",
    "raise NotImplementedError()"
   ]
  }
 ],
 "metadata": {
  "kernelspec": {
   "display_name": "default:Python",
   "language": "python",
   "name": "conda-env-default-py"
  },
  "language_info": {
   "codemirror_mode": {
    "name": "ipython",
    "version": 3
   },
   "file_extension": ".py",
   "mimetype": "text/x-python",
   "name": "python",
   "nbconvert_exporter": "python",
   "pygments_lexer": "ipython3",
   "version": "3.9.7"
  }
 },
 "nbformat": 4,
 "nbformat_minor": 4
}
